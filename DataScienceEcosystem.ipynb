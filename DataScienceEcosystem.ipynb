{
  "metadata": {
    "kernelspec": {
      "name": "python",
      "display_name": "Python (Pyodide)",
      "language": "python"
    },
    "language_info": {
      "codemirror_mode": {
        "name": "python",
        "version": 3
      },
      "file_extension": ".py",
      "mimetype": "text/x-python",
      "name": "python",
      "nbconvert_exporter": "python",
      "pygments_lexer": "ipython3",
      "version": "3.8"
    }
  },
  "nbformat_minor": 5,
  "nbformat": 4,
  "cells": [
    {
      "id": "120a6573-46ff-4c99-bce9-d991410d20f5",
      "cell_type": "markdown",
      "source": "## Data Science Tools and Ecosystem",
      "metadata": {}
    },
    {
      "id": "97008fac-ea91-4213-ae46-486cb204b6b4",
      "cell_type": "markdown",
      "source": "In this notebook, Data Science Tools and Ecosystem are summarized.",
      "metadata": {}
    },
    {
      "id": "e31b2aea-4a35-4f48-9823-22d375503d03",
      "cell_type": "markdown",
      "source": "**Objectives:**\n\n- Python\n- R\n- Sql\n- Java\n- c++",
      "metadata": {}
    },
    {
      "id": "4cf4dbf2-0e1e-4efb-bfb5-65712472c278",
      "cell_type": "markdown",
      "source": "Some of the popular languages that Data Scientists use are:\n\n1. Sql\n2. Python\n3. R",
      "metadata": {}
    },
    {
      "id": "e49ddf0e-58a7-4afb-856e-b664d77282bc",
      "cell_type": "markdown",
      "source": "Some of the commonly used libraries used by Data Scientists include:\n\n- nupmy\n- pandas\n- matplotlib",
      "metadata": {}
    },
    {
      "id": "87df1638-ecfc-4aec-9635-b9ec1ecd95a8",
      "cell_type": "markdown",
      "source": "| Data Science Tools         |\n|---------------------------|\n| Jupyter Notebook          |\n| RStudio                   |\n| Visual Studio Code (VS Code) |",
      "metadata": {}
    },
    {
      "id": "58f9a126-5cd0-443b-8c75-c8828723aff7",
      "cell_type": "markdown",
      "source": "#### Below are a few examples of evaluating arithmetic expressions in Python",
      "metadata": {}
    },
    {
      "id": "ac4f1389-b79c-473f-ae60-fa035daf1f02",
      "cell_type": "code",
      "source": "# This a simple arithmetic expression to mutiply then add integers\n(3*4)+5",
      "metadata": {
        "trusted": true
      },
      "outputs": [
        {
          "execution_count": 2,
          "output_type": "execute_result",
          "data": {
            "text/plain": "17"
          },
          "metadata": {}
        }
      ],
      "execution_count": 2
    },
    {
      "id": "e8d32093-edaa-4755-b55e-30464bb385de",
      "cell_type": "code",
      "source": "# This will convert 200 minutes to hours by diving by 60\n200/60",
      "metadata": {
        "trusted": true
      },
      "outputs": [
        {
          "execution_count": 3,
          "output_type": "execute_result",
          "data": {
            "text/plain": "3.3333333333333335"
          },
          "metadata": {}
        }
      ],
      "execution_count": 3
    },
    {
      "id": "dd6a3be1-56b5-4b47-8357-0f274a435697",
      "cell_type": "markdown",
      "source": "### Author\nAnshu",
      "metadata": {}
    },
    {
      "id": "2451d49c-08b8-4aa4-ba30-3fce9c015049",
      "cell_type": "code",
      "source": "",
      "metadata": {
        "trusted": true
      },
      "outputs": [],
      "execution_count": null
    }
  ]
}